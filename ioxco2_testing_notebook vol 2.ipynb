{
 "cells": [
  {
   "cell_type": "code",
   "execution_count": 1,
   "id": "cbbe2036",
   "metadata": {},
   "outputs": [
    {
     "name": "stderr",
     "output_type": "stream",
     "text": [
      "C:\\Users\\edward.luca\\Anaconda3\\lib\\site-packages\\scipy\\__init__.py:146: UserWarning: A NumPy version >=1.16.5 and <1.23.0 is required for this version of SciPy (detected version 1.25.0\n",
      "  warnings.warn(f\"A NumPy version >={np_minversion} and <{np_maxversion}\"\n"
     ]
    }
   ],
   "source": [
    "import pandas as pd\n",
    "import numpy as np\n",
    "from IPython.display import display\n",
    "import sys\n",
    "from scipy.stats import zscore, percentileofscore\n",
    "from scipy.spatial import distance\n",
    "from scipy.spatial.distance import mahalanobis"
   ]
  },
  {
   "cell_type": "code",
   "execution_count": 2,
   "id": "aa5d49f3",
   "metadata": {},
   "outputs": [
    {
     "ename": "NameError",
     "evalue": "name 'ioxpath' is not defined",
     "output_type": "error",
     "traceback": [
      "\u001b[1;31m---------------------------------------------------------------------------\u001b[0m",
      "\u001b[1;31mNameError\u001b[0m                                 Traceback (most recent call last)",
      "Input \u001b[1;32mIn [2]\u001b[0m, in \u001b[0;36m<cell line: 5>\u001b[1;34m()\u001b[0m\n\u001b[0;32m      1\u001b[0m \u001b[38;5;66;03m#ioxpath = \"H:\\Documents\\LabVIEW\\\\true_IOXPleth_file.xlsx\"\u001b[39;00m\n\u001b[0;32m      2\u001b[0m \u001b[38;5;66;03m#co2path = \"H:\\Documents\\LabVIEW\\\\true_CO2Analyzer_file.csv\"\u001b[39;00m\n\u001b[1;32m----> 5\u001b[0m iox \u001b[38;5;241m=\u001b[39m pd\u001b[38;5;241m.\u001b[39mread_excel(\u001b[43mioxpath\u001b[49m)                                                    \u001b[38;5;66;03m#Read IOX excel file\u001b[39;00m\n\u001b[0;32m      6\u001b[0m co2 \u001b[38;5;241m=\u001b[39m pd\u001b[38;5;241m.\u001b[39mread_csv(co2path, encoding\u001b[38;5;241m=\u001b[39m \u001b[38;5;124m'\u001b[39m\u001b[38;5;124municode_escape\u001b[39m\u001b[38;5;124m'\u001b[39m)\n",
      "\u001b[1;31mNameError\u001b[0m: name 'ioxpath' is not defined"
     ]
    }
   ],
   "source": [
    "#ioxpath = \"H:\\Documents\\LabVIEW\\\\true_IOXPleth_file.xlsx\"\n",
    "#co2path = \"H:\\Documents\\LabVIEW\\\\true_CO2Analyzer_file.csv\"\n",
    "\n",
    "\n",
    "iox = pd.read_excel(ioxpath)                                                    #Read IOX excel file\n",
    "co2 = pd.read_csv(co2path, encoding= 'unicode_escape')                          #Read CO2 excel file"
   ]
  },
  {
   "cell_type": "code",
   "execution_count": 3,
   "id": "2190697a",
   "metadata": {},
   "outputs": [],
   "source": [
    "##################### CLEANING EXCEL FILE FUNCTIONS ######################################\n",
    "\n",
    "def cleanit(iox):\n",
    "    ############## DELETING ############################\n",
    "    df = iox\n",
    "\n",
    "    # Helps visualization\n",
    "    df.columns.values[6] = \"c6\"\n",
    "    \n",
    "    # Find the row index where \"parameter\" is present in the specified column\n",
    "    start_row = df[df[\"c6\"].str.contains(\"parameter\", na=False)].index[0]\n",
    "\n",
    "    # Read the Excel file again, skipping the rows before the row with \"parameter\"\n",
    "    df = pd.read_excel(ioxpath, skiprows = start_row + 1)\n",
    "    \n",
    "    # Delete last 6 rows\n",
    "    df.drop(df.tail(6).index, inplace = True)\n",
    "    \n",
    "    # Delete rows containing the word 'analyzer' and 'period-stop'\n",
    "    df.rename(columns={df.columns[5]: \"c5\"}, inplace=True)\n",
    "    df = df[~df[\"c5\"].astype(str).str.contains('analyzer')]\n",
    "    df = df[~df[\"c5\"].astype(str).str.contains('period-stop')]\n",
    "    df.rename(columns={df.columns[6]: \"c6\", df.columns[8]: \"c8\"}, inplace=True)\n",
    "    \n",
    "    # Populate column 'c8' with values from 'c6' until the next non-null value is encountered\n",
    "    df['c8'] = df.groupby(df['c6'].notnull().cumsum())['c6'].transform(lambda x: x.ffill())\n",
    "    \n",
    "    # Delete columns 0,5-8\n",
    "    df = df.drop(columns = df.columns[0])\n",
    "    df = df.drop(columns = df.columns[4:7])\n",
    "\n",
    "    # Delete rows 0-5\n",
    "    df = df.drop(labels = range(0,5), axis = 0)\n",
    "    \n",
    "    \n",
    "    ################# ADDING/MOVING ##################\n",
    "    df.columns.values[5] = \"c5\"\n",
    "    df = df.dropna(subset=[\"c5\"]) #Remove unwanted NaNs\n",
    "    df.insert(0, \"Sample\", df[\"c5\"])\n",
    "\n",
    "\n",
    "\n",
    "    ################# RENAMING ########################\n",
    "    df.columns.values[0] = \"Sample\"\n",
    "    df.columns.values[1] = \"CPU Date\"\n",
    "    df.columns.values[2] = \"CPU Time\"\n",
    "    df.columns.values[3] = \"Site Time\"\n",
    "    df.columns.values[4] = \"Period Time\"\n",
    "    df.columns.values[5] = \"Protocol Type\"\n",
    "    df.columns.values[6] = \"Storage ID\"\n",
    "    df.columns.values[7] = \"First Beat ID\"\n",
    "    df.columns.values[8] = \"Last Beat ID\"\n",
    "    df.columns.values[9] = \"Ti (msec)\"\n",
    "    df.columns.values[10] = \"Te (msec)\"\n",
    "    df.columns.values[15] = \"RT (msec)\"\n",
    "    df.columns.values[17] = \"P (msec)\"\n",
    "    df.columns.values[18] = \"f (bpm)\"\n",
    "    df.columns.values[19] = \"EIP (msec)\"\n",
    "    df.columns.values[20] = \"EEP (msec)\"\n",
    "    \n",
    "    \n",
    "    # Reset the row headers to start from 1\n",
    "    df = df.reset_index(drop=True)\n",
    "    \n",
    "    \n",
    "    pd.set_option('display.max_columns', None)  # None: Display all columns\n",
    "    pd.set_option('display.max_rows', None)  # None: Display all rows\n",
    "\n",
    "    return df"
   ]
  },
  {
   "cell_type": "code",
   "execution_count": 4,
   "id": "84038fb1",
   "metadata": {},
   "outputs": [],
   "source": [
    "################## ADD OTHER PLETHYSMOGRAPHY VALUES #########################\n",
    "def addvalues(df):\n",
    "    mid_df = df.copy()  # Create a copy of the original DataFrame to avoid modifying it\n",
    "    \n",
    "    # Define the weights for each variable\n",
    "    weights = {\n",
    "        'TV': 0.4,\n",
    "        'Ti (msec)': 0.2,\n",
    "        'Te (msec)': 0.2,\n",
    "        'PIF': 0.2\n",
    "    }\n",
    "    \n",
    "    \n",
    "    # Calculate the z-scores, percentiles, and Mahalanobis distances for each variable\n",
    "    for variable in ['TV', 'Ti (msec)', 'Te (msec)', 'PIF']:\n",
    "        mean = mid_df[variable].mean()\n",
    "        std = mid_df[variable].std()\n",
    "        mid_df[f'{variable}_ZScore'] = (mid_df[variable] - mean) / std\n",
    "        mid_df[f'{variable}_Percentile'] = mid_df[variable].rank(pct=True)\n",
    "        cov = np.cov(np.stack(mid_df[variable]), rowvar=False)\n",
    "        mean_vector = np.array([mean])\n",
    "        mid_df[f'{variable}_MahalanobisDistance'] = mid_df[variable].apply(\n",
    "            lambda x: distance.mahalanobis([x], mean_vector, cov)\n",
    "        )\n",
    "\n",
    "    # Calculate the weighted composite score\n",
    "    variables = ['TV', 'Ti (msec)', 'Te (msec)', 'PIF']\n",
    "    composite_score = np.zeros(len(mid_df))\n",
    "    for variable in variables:\n",
    "        composite_score += (\n",
    "            weights[variable] * mid_df[f'{variable}_ZScore'] +\n",
    "            weights[variable] * mid_df[f'{variable}_Percentile'] +\n",
    "            weights[variable] * mid_df[f'{variable}_MahalanobisDistance']\n",
    "        )\n",
    "\n",
    "    # Assign the composite score to a new column\n",
    "    mid_df['BreathIrregularityScore'] = composite_score\n",
    "\n",
    "    return mid_df"
   ]
  },
  {
   "cell_type": "code",
   "execution_count": 5,
   "id": "a57b23bf",
   "metadata": {},
   "outputs": [],
   "source": [
    "################## COMBINE IOX UPDATED DATAFRAME WITH CO2 DATAFRAME ##########\n",
    "def combineit(mid_df,co2):\n",
    "    finaldf = mid_df\n",
    "    \n",
    "    # Append co2 to the right of mid_df with four spaces in between\n",
    "    finaldf = pd.concat([finaldf, pd.DataFrame(columns=['', '', '', '']), co2], axis=1)\n",
    "    \n",
    "    \n",
    "\n",
    "    return finaldf"
   ]
  },
  {
   "cell_type": "code",
   "execution_count": 6,
   "id": "edbe1b7b",
   "metadata": {},
   "outputs": [],
   "source": [
    "####################### SAVE FINAL DATAFRAME AS EXCEL #########################\n",
    "def excel_saveit(df):\n",
    "\n",
    "    # determining the path and name of the file\n",
    "    file_path = 'H:\\Documents\\LabVIEW\\ioxco2_testing_finaldf.xlsx'\n",
    "  \n",
    "    # saving the excel\n",
    "    df.to_excel(file_path, index = False)\n",
    "    print('IOX + CO2 DataFrame is written to Excel File successfully.')"
   ]
  },
  {
   "cell_type": "code",
   "execution_count": 7,
   "id": "837a6a4c",
   "metadata": {},
   "outputs": [
    {
     "ename": "NameError",
     "evalue": "name 'iox' is not defined",
     "output_type": "error",
     "traceback": [
      "\u001b[1;31m---------------------------------------------------------------------------\u001b[0m",
      "\u001b[1;31mNameError\u001b[0m                                 Traceback (most recent call last)",
      "Input \u001b[1;32mIn [7]\u001b[0m, in \u001b[0;36m<cell line: 1>\u001b[1;34m()\u001b[0m\n\u001b[1;32m----> 1\u001b[0m df \u001b[38;5;241m=\u001b[39m cleanit(\u001b[43miox\u001b[49m)\n",
      "\u001b[1;31mNameError\u001b[0m: name 'iox' is not defined"
     ]
    }
   ],
   "source": [
    "df = cleanit(iox)"
   ]
  },
  {
   "cell_type": "code",
   "execution_count": 8,
   "id": "c0a03ee6",
   "metadata": {},
   "outputs": [
    {
     "ename": "NameError",
     "evalue": "name 'iox' is not defined",
     "output_type": "error",
     "traceback": [
      "\u001b[1;31m---------------------------------------------------------------------------\u001b[0m",
      "\u001b[1;31mNameError\u001b[0m                                 Traceback (most recent call last)",
      "Input \u001b[1;32mIn [8]\u001b[0m, in \u001b[0;36m<cell line: 1>\u001b[1;34m()\u001b[0m\n\u001b[1;32m----> 1\u001b[0m cleanit(\u001b[43miox\u001b[49m)\n",
      "\u001b[1;31mNameError\u001b[0m: name 'iox' is not defined"
     ]
    }
   ],
   "source": [
    "cleanit(iox)"
   ]
  },
  {
   "cell_type": "code",
   "execution_count": 9,
   "id": "840bd59f",
   "metadata": {},
   "outputs": [
    {
     "ename": "NameError",
     "evalue": "name 'df' is not defined",
     "output_type": "error",
     "traceback": [
      "\u001b[1;31m---------------------------------------------------------------------------\u001b[0m",
      "\u001b[1;31mNameError\u001b[0m                                 Traceback (most recent call last)",
      "Input \u001b[1;32mIn [9]\u001b[0m, in \u001b[0;36m<cell line: 1>\u001b[1;34m()\u001b[0m\n\u001b[1;32m----> 1\u001b[0m mid_df \u001b[38;5;241m=\u001b[39m addvalues(\u001b[43mdf\u001b[49m)\n",
      "\u001b[1;31mNameError\u001b[0m: name 'df' is not defined"
     ]
    }
   ],
   "source": [
    "mid_df = addvalues(df)"
   ]
  },
  {
   "cell_type": "code",
   "execution_count": 10,
   "id": "c697d3be",
   "metadata": {},
   "outputs": [
    {
     "ename": "NameError",
     "evalue": "name 'df' is not defined",
     "output_type": "error",
     "traceback": [
      "\u001b[1;31m---------------------------------------------------------------------------\u001b[0m",
      "\u001b[1;31mNameError\u001b[0m                                 Traceback (most recent call last)",
      "Input \u001b[1;32mIn [10]\u001b[0m, in \u001b[0;36m<cell line: 1>\u001b[1;34m()\u001b[0m\n\u001b[1;32m----> 1\u001b[0m addvalues(\u001b[43mdf\u001b[49m)\n",
      "\u001b[1;31mNameError\u001b[0m: name 'df' is not defined"
     ]
    }
   ],
   "source": [
    "addvalues(df)"
   ]
  },
  {
   "cell_type": "code",
   "execution_count": 11,
   "id": "f81f5d1a",
   "metadata": {},
   "outputs": [
    {
     "ename": "NameError",
     "evalue": "name 'mid_df' is not defined",
     "output_type": "error",
     "traceback": [
      "\u001b[1;31m---------------------------------------------------------------------------\u001b[0m",
      "\u001b[1;31mNameError\u001b[0m                                 Traceback (most recent call last)",
      "Input \u001b[1;32mIn [11]\u001b[0m, in \u001b[0;36m<cell line: 1>\u001b[1;34m()\u001b[0m\n\u001b[1;32m----> 1\u001b[0m combineit(\u001b[43mmid_df\u001b[49m,co2)\n",
      "\u001b[1;31mNameError\u001b[0m: name 'mid_df' is not defined"
     ]
    }
   ],
   "source": [
    "combineit(mid_df,co2)"
   ]
  },
  {
   "cell_type": "code",
   "execution_count": 12,
   "id": "e480dc00",
   "metadata": {},
   "outputs": [
    {
     "ename": "NameError",
     "evalue": "name 'mid_df' is not defined",
     "output_type": "error",
     "traceback": [
      "\u001b[1;31m---------------------------------------------------------------------------\u001b[0m",
      "\u001b[1;31mNameError\u001b[0m                                 Traceback (most recent call last)",
      "Input \u001b[1;32mIn [12]\u001b[0m, in \u001b[0;36m<cell line: 1>\u001b[1;34m()\u001b[0m\n\u001b[1;32m----> 1\u001b[0m finaldf \u001b[38;5;241m=\u001b[39m combineit(\u001b[43mmid_df\u001b[49m,co2)\n",
      "\u001b[1;31mNameError\u001b[0m: name 'mid_df' is not defined"
     ]
    }
   ],
   "source": [
    "finaldf = combineit(mid_df,co2)"
   ]
  },
  {
   "cell_type": "code",
   "execution_count": 13,
   "id": "6fc39cd3",
   "metadata": {},
   "outputs": [
    {
     "ename": "NameError",
     "evalue": "name 'finaldf' is not defined",
     "output_type": "error",
     "traceback": [
      "\u001b[1;31m---------------------------------------------------------------------------\u001b[0m",
      "\u001b[1;31mNameError\u001b[0m                                 Traceback (most recent call last)",
      "Input \u001b[1;32mIn [13]\u001b[0m, in \u001b[0;36m<cell line: 1>\u001b[1;34m()\u001b[0m\n\u001b[1;32m----> 1\u001b[0m excel_saveit(\u001b[43mfinaldf\u001b[49m)\n",
      "\u001b[1;31mNameError\u001b[0m: name 'finaldf' is not defined"
     ]
    }
   ],
   "source": [
    "excel_saveit(finaldf)"
   ]
  },
  {
   "cell_type": "code",
   "execution_count": null,
   "id": "d111627f",
   "metadata": {},
   "outputs": [],
   "source": []
  },
  {
   "cell_type": "code",
   "execution_count": null,
   "id": "a31f0a10",
   "metadata": {},
   "outputs": [],
   "source": []
  },
  {
   "cell_type": "code",
   "execution_count": null,
   "id": "83717e26",
   "metadata": {},
   "outputs": [],
   "source": []
  }
 ],
 "metadata": {
  "kernelspec": {
   "display_name": "Python 3 (ipykernel)",
   "language": "python",
   "name": "python3"
  },
  "language_info": {
   "codemirror_mode": {
    "name": "ipython",
    "version": 3
   },
   "file_extension": ".py",
   "mimetype": "text/x-python",
   "name": "python",
   "nbconvert_exporter": "python",
   "pygments_lexer": "ipython3",
   "version": "3.9.12"
  }
 },
 "nbformat": 4,
 "nbformat_minor": 5
}
