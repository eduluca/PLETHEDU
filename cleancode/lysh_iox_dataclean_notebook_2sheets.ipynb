{
 "cells": [
  {
   "cell_type": "code",
   "execution_count": 1,
   "id": "cbbe2036",
   "metadata": {},
   "outputs": [],
   "source": [
    "import pandas as pd\n",
    "import numpy as np\n",
    "from IPython.display import display\n",
    "import sys\n",
    "from scipy.stats import zscore, percentileofscore\n",
    "from scipy.spatial import distance\n",
    "from scipy.spatial.distance import mahalanobis"
   ]
  },
  {
   "cell_type": "code",
   "execution_count": 2,
   "id": "008755e1",
   "metadata": {},
   "outputs": [
    {
     "name": "stdout",
     "output_type": "stream",
     "text": [
      "C:\\Users\\a.michaelson\\Github\\PLETHEDU\\cleancode\n"
     ]
    }
   ],
   "source": [
    "import os\n",
    "print(os.getcwd())"
   ]
  },
  {
   "cell_type": "code",
   "execution_count": 3,
   "id": "aa5d49f3",
   "metadata": {},
   "outputs": [],
   "source": [
    "############################## SETTING PATHS ##################################################\n",
    "\n",
    "#ioxpath = r\"C:\\Users\\a.michaelson\\Github\\PLETHEDU\\cleancode\\Pre_cleaned_up_files\\30_preinjury.xlsx\"\n",
    "\n",
    "\n",
    "#iox = pd.read_excel(ioxpath)                                                    #Read IOX excel file\n",
    "\n",
    "\n",
    "# lYSH CHANGE THIS!!!!! IOX Path (hold ctrl + shift on file and select copy path, leave r there)\n",
    "\n",
    "# Specify the path to the Excel file\n",
    "ioxpath = r\"C:\\Users\\a.michaelson\\Github\\PLETHEDU\\cleancode\\Pre_cleaned_up_files\\25_1wkpostAIH_OG.xlsx\"\n",
    "\n",
    "# Read the Excel file into a list of dataframes, one dataframe for each sheet\n",
    "xls = pd.ExcelFile(ioxpath)\n",
    "\n",
    "# Access the first sheet (index 0)\n",
    "first_sheet_name = xls.sheet_names[0]\n",
    "first_sheet_data = pd.read_excel(ioxpath, sheet_name=first_sheet_name)\n",
    "\n",
    "# Access the second sheet (index 1)\n",
    "second_sheet_name = xls.sheet_names[1]\n",
    "second_sheet_data = pd.read_excel(ioxpath, sheet_name=second_sheet_name)"
   ]
  },
  {
   "cell_type": "code",
   "execution_count": 4,
   "id": "2190697a",
   "metadata": {},
   "outputs": [],
   "source": [
    "##################### CLEANING EXCEL FILE FUNCTIONS ######################################\n",
    "\n",
    "def cleanit(iox):\n",
    "    ############## DELETING ############################\n",
    "    df = iox\n",
    "\n",
    "    # Helps visualization\n",
    "    df.columns.values[6] = \"c6\"\n",
    "    \n",
    "    # Find the row index where \"parameter\" is present in the specified column\n",
    "    start_row = df[df[\"c6\"].str.contains(\"parameter\", na=False)].index[0]\n",
    "\n",
    "    # Read the Excel file again, skipping the rows before the row with \"parameter\"\n",
    "    df = pd.read_excel(ioxpath, skiprows = start_row + 1)\n",
    "    \n",
    "    # Delete last 6 rows\n",
    "    df.drop(df.tail(6).index, inplace = True)\n",
    "    \n",
    "    # Delete rows containing the word 'analyzer' and 'period-stop'\n",
    "    df.rename(columns={df.columns[5]: \"c5\"}, inplace=True)\n",
    "    df = df[~df[\"c5\"].astype(str).str.contains('analyzer')]\n",
    "    df = df[~df[\"c5\"].astype(str).str.contains('period-stop')]\n",
    "    df.rename(columns={df.columns[6]: \"c6\", df.columns[8]: \"c8\"}, inplace=True)\n",
    "    \n",
    "    # Populate column 'c8' with values from 'c6' until the next non-null value is encountered\n",
    "    df['c8'] = df.groupby(df['c6'].notnull().cumsum())['c6'].transform(lambda x: x.ffill())\n",
    "    \n",
    "    # Delete columns 0,5-8\n",
    "    df = df.drop(columns = df.columns[0])\n",
    "    df = df.drop(columns = df.columns[4:7])\n",
    "\n",
    "    # Delete rows 0-5\n",
    "    #print(df)\n",
    "    #pd.set_option('display.max_columns', None)  # None: Display all columns\n",
    "    #pd.set_option('display.max_rows', None)  # None: Display all rows\n",
    "    #return df\n",
    "    if 4 in df.index:\n",
    "        df = df.drop(labels = range(0,5), axis = 0)\n",
    "    else:\n",
    "        df = df.drop(labels = range(0,4), axis = 0)\n",
    "    \n",
    "    \n",
    "    ################# ADDING/MOVING ##################\n",
    "    df.columns.values[5] = \"c5\"\n",
    "    df = df.dropna(subset=[\"c5\"]) #Remove unwanted NaNs\n",
    "    df.insert(0, \"Sample\", df[\"c5\"])\n",
    "\n",
    "\n",
    "\n",
    "    ################# RENAMING ########################\n",
    "    df.columns.values[0] = \"Sample\"\n",
    "    df.columns.values[1] = \"CPU Date\"\n",
    "    df.columns.values[2] = \"CPU Time\"\n",
    "    df.columns.values[3] = \"Site Time\"\n",
    "    df.columns.values[4] = \"Period Time\"\n",
    "    df.columns.values[5] = \"Protocol Type\"\n",
    "    df.columns.values[6] = \"Storage ID\"\n",
    "    df.columns.values[7] = \"First Beat ID\"\n",
    "    df.columns.values[8] = \"Last Beat ID\"\n",
    "    df.columns.values[9] = \"Ti (msec)\"\n",
    "    df.columns.values[10] = \"Te (msec)\"\n",
    "    df.columns.values[15] = \"RT (msec)\"\n",
    "    df.columns.values[17] = \"P (msec)\"\n",
    "    df.columns.values[18] = \"f (bpm)\"\n",
    "    df.columns.values[19] = \"EIP (msec)\"\n",
    "    df.columns.values[20] = \"EEP (msec)\"\n",
    "    \n",
    "    \n",
    "    # Reset the row headers to start from 1\n",
    "    df = df.reset_index(drop=True)\n",
    "    \n",
    "    \n",
    "    pd.set_option('display.max_columns', None)  # None: Display all columns\n",
    "    pd.set_option('display.max_rows', None)  # None: Display all rows\n",
    "\n",
    "    return df"
   ]
  },
  {
   "cell_type": "code",
   "execution_count": 5,
   "id": "84038fb1",
   "metadata": {},
   "outputs": [],
   "source": [
    "################## ADD OTHER PLETHYSMOGRAPHY VALUES #########################\n",
    "def addvalues(df):\n",
    "    mid_df = df.copy()  # Create a copy of the original DataFrame to avoid modifying it\n",
    "    \n",
    "    # Define the weights for each variable\n",
    "    weights = {\n",
    "        'TV': 0.4,\n",
    "        'Ti (msec)': 0.2,\n",
    "        'Te (msec)': 0.2,\n",
    "        'PIF': 0.2\n",
    "    }\n",
    "    \n",
    "    \n",
    "    # Calculate the z-scores, percentiles, and Mahalanobis distances for each variable\n",
    "    for variable in ['TV', 'Ti (msec)', 'Te (msec)', 'PIF']:\n",
    "        mean = mid_df[variable].mean()\n",
    "        std = mid_df[variable].std()\n",
    "        mid_df[f'{variable}_ZScore'] = (mid_df[variable] - mean) / std\n",
    "        mid_df[f'{variable}_Percentile'] = mid_df[variable].rank(pct=True)\n",
    "        cov = np.cov(np.stack(mid_df[variable]), rowvar=False)\n",
    "        mean_vector = np.array([mean])\n",
    "        mid_df[f'{variable}_MahalanobisDistance'] = mid_df[variable].apply(\n",
    "            lambda x: distance.mahalanobis([x], mean_vector, cov)\n",
    "        )\n",
    "\n",
    "    # Calculate the weighted composite score\n",
    "    variables = ['TV', 'Ti (msec)', 'Te (msec)', 'PIF']\n",
    "    composite_score = np.zeros(len(mid_df))\n",
    "    for variable in variables:\n",
    "        composite_score += (\n",
    "            weights[variable] * mid_df[f'{variable}_ZScore'] +\n",
    "            weights[variable] * mid_df[f'{variable}_Percentile'] +\n",
    "            weights[variable] * mid_df[f'{variable}_MahalanobisDistance']\n",
    "        )\n",
    "\n",
    "    # Assign the composite score to a new column\n",
    "    mid_df['BreathIrregularityScore'] = composite_score\n",
    "\n",
    "    return mid_df"
   ]
  },
  {
   "cell_type": "code",
   "execution_count": 6,
   "id": "a57b23bf",
   "metadata": {},
   "outputs": [
    {
     "data": {
      "text/plain": [
       "\"\\ndef combineit(mid_df,co2):\\n    finaldf = mid_df\\n    \\n    # Append co2 to the right of mid_df with four spaces in between\\n    finaldf = pd.concat([finaldf, pd.DataFrame(columns=['', '', '', '']), co2], axis=1)\\n    \\n    \\n\\n    return finaldf\\n\""
      ]
     },
     "execution_count": 6,
     "metadata": {},
     "output_type": "execute_result"
    }
   ],
   "source": [
    "################## COMBINE IOX UPDATED DATAFRAME WITH CO2 DATAFRAME ##########\n",
    "'''\n",
    "def combineit(mid_df,co2):\n",
    "    finaldf = mid_df\n",
    "    \n",
    "    # Append co2 to the right of mid_df with four spaces in between\n",
    "    finaldf = pd.concat([finaldf, pd.DataFrame(columns=['', '', '', '']), co2], axis=1)\n",
    "    \n",
    "    \n",
    "\n",
    "    return finaldf\n",
    "'''"
   ]
  },
  {
   "cell_type": "code",
   "execution_count": 7,
   "id": "edbe1b7b",
   "metadata": {},
   "outputs": [
    {
     "ename": "SyntaxError",
     "evalue": "(unicode error) 'unicodeescape' codec can't decode bytes in position 195-196: truncated \\UXXXXXXXX escape (2702204531.py, line 12)",
     "output_type": "error",
     "traceback": [
      "\u001b[1;36m  Cell \u001b[1;32mIn[7], line 12\u001b[1;36m\u001b[0m\n\u001b[1;33m    '''\u001b[0m\n\u001b[1;37m       ^\u001b[0m\n\u001b[1;31mSyntaxError\u001b[0m\u001b[1;31m:\u001b[0m (unicode error) 'unicodeescape' codec can't decode bytes in position 195-196: truncated \\UXXXXXXXX escape\n"
     ]
    }
   ],
   "source": [
    "'''\n",
    "####################### SAVE FINAL DATAFRAME AS EXCEL #########################\n",
    "def excel_saveit(df):\n",
    "\n",
    "    # lYSH CHANGE THIS!!!!! determining the path and name of the file \n",
    "    file_path = r\"C:\\Users\\a.michaelson\\Github\\PLETHEDU\\cleancode\\Post_cleaned_up_files\\29_preinjury_clean.xlsx\"\n",
    "  \n",
    "    # saving the excel\n",
    "    df.to_excel(file_path, index = False)\n",
    "    #print('IOX + CO2 DataFrame is written to Excel File successfully.')\n",
    "    print('IOX DataFrame is written to Excel File successfully.')\n",
    "'''"
   ]
  },
  {
   "cell_type": "code",
   "execution_count": 8,
   "id": "8da09050",
   "metadata": {},
   "outputs": [],
   "source": [
    "####################### SAVE FINAL DATAFRAME AS EXCEL FOR 2 SHEETS #########################\n",
    "def excel_saveit(first_sheet_data, second_sheet_data):\n",
    "    \n",
    "    # lYSH CHANGE THIS!!!!! determining the path and name of the file\n",
    "    # Specify the path and name of the Excel file\n",
    "    file_path = r\"C:\\Users\\a.michaelson\\Github\\PLETHEDU\\cleancode\\Post_cleaned_up_files\\25_1wkpostAIH_clean.xlsx\"\n",
    "    \n",
    "    # Create an Excel writer object to save multiple sheets to the same file\n",
    "    with pd.ExcelWriter(file_path, engine='xlsxwriter') as writer:\n",
    "        # Write the first sheet to the Excel file\n",
    "        first_sheet_data.to_excel(writer, sheet_name='Baseline', index=False) #LYSH CHANGE FIRST SHEET NAME HERE!!\n",
    "\n",
    "        # Write the second sheet to the Excel file\n",
    "        second_sheet_data.to_excel(writer, sheet_name='MCS', index=False) #LYSH CHANGE SECOND SHEET NAME HERE!!\n",
    "\n",
    "    print('Both DataFrames are written to the Excel file successfully.')"
   ]
  },
  {
   "cell_type": "code",
   "execution_count": 9,
   "id": "837a6a4c",
   "metadata": {},
   "outputs": [
    {
     "ename": "KeyError",
     "evalue": "'[3] not found in axis'",
     "output_type": "error",
     "traceback": [
      "\u001b[1;31m---------------------------------------------------------------------------\u001b[0m",
      "\u001b[1;31mKeyError\u001b[0m                                  Traceback (most recent call last)",
      "Cell \u001b[1;32mIn[9], line 1\u001b[0m\n\u001b[1;32m----> 1\u001b[0m df \u001b[38;5;241m=\u001b[39m cleanit(first_sheet_data)\n",
      "Cell \u001b[1;32mIn[4], line 38\u001b[0m, in \u001b[0;36mcleanit\u001b[1;34m(iox)\u001b[0m\n\u001b[0;32m     32\u001b[0m \u001b[38;5;66;03m# Delete rows 0-5\u001b[39;00m\n\u001b[0;32m     33\u001b[0m \u001b[38;5;66;03m#print(df)\u001b[39;00m\n\u001b[0;32m     34\u001b[0m \u001b[38;5;66;03m#pd.set_option('display.max_columns', None)  # None: Display all columns\u001b[39;00m\n\u001b[0;32m     35\u001b[0m \u001b[38;5;66;03m#pd.set_option('display.max_rows', None)  # None: Display all rows\u001b[39;00m\n\u001b[0;32m     36\u001b[0m \u001b[38;5;66;03m#return df\u001b[39;00m\n\u001b[0;32m     37\u001b[0m \u001b[38;5;28;01mif\u001b[39;00m \u001b[38;5;241m4\u001b[39m \u001b[38;5;129;01min\u001b[39;00m df\u001b[38;5;241m.\u001b[39mindex:\n\u001b[1;32m---> 38\u001b[0m     df \u001b[38;5;241m=\u001b[39m df\u001b[38;5;241m.\u001b[39mdrop(labels \u001b[38;5;241m=\u001b[39m \u001b[38;5;28mrange\u001b[39m(\u001b[38;5;241m0\u001b[39m,\u001b[38;5;241m5\u001b[39m), axis \u001b[38;5;241m=\u001b[39m \u001b[38;5;241m0\u001b[39m)\n\u001b[0;32m     39\u001b[0m \u001b[38;5;28;01melse\u001b[39;00m:\n\u001b[0;32m     40\u001b[0m     df \u001b[38;5;241m=\u001b[39m df\u001b[38;5;241m.\u001b[39mdrop(labels \u001b[38;5;241m=\u001b[39m \u001b[38;5;28mrange\u001b[39m(\u001b[38;5;241m0\u001b[39m,\u001b[38;5;241m4\u001b[39m), axis \u001b[38;5;241m=\u001b[39m \u001b[38;5;241m0\u001b[39m)\n",
      "File \u001b[1;32m~\\AppData\\Local\\anaconda3\\Lib\\site-packages\\pandas\\core\\frame.py:5258\u001b[0m, in \u001b[0;36mDataFrame.drop\u001b[1;34m(self, labels, axis, index, columns, level, inplace, errors)\u001b[0m\n\u001b[0;32m   5110\u001b[0m \u001b[38;5;28;01mdef\u001b[39;00m \u001b[38;5;21mdrop\u001b[39m(\n\u001b[0;32m   5111\u001b[0m     \u001b[38;5;28mself\u001b[39m,\n\u001b[0;32m   5112\u001b[0m     labels: IndexLabel \u001b[38;5;241m=\u001b[39m \u001b[38;5;28;01mNone\u001b[39;00m,\n\u001b[1;32m   (...)\u001b[0m\n\u001b[0;32m   5119\u001b[0m     errors: IgnoreRaise \u001b[38;5;241m=\u001b[39m \u001b[38;5;124m\"\u001b[39m\u001b[38;5;124mraise\u001b[39m\u001b[38;5;124m\"\u001b[39m,\n\u001b[0;32m   5120\u001b[0m ) \u001b[38;5;241m-\u001b[39m\u001b[38;5;241m>\u001b[39m DataFrame \u001b[38;5;241m|\u001b[39m \u001b[38;5;28;01mNone\u001b[39;00m:\n\u001b[0;32m   5121\u001b[0m \u001b[38;5;250m    \u001b[39m\u001b[38;5;124;03m\"\"\"\u001b[39;00m\n\u001b[0;32m   5122\u001b[0m \u001b[38;5;124;03m    Drop specified labels from rows or columns.\u001b[39;00m\n\u001b[0;32m   5123\u001b[0m \n\u001b[1;32m   (...)\u001b[0m\n\u001b[0;32m   5256\u001b[0m \u001b[38;5;124;03m            weight  1.0     0.8\u001b[39;00m\n\u001b[0;32m   5257\u001b[0m \u001b[38;5;124;03m    \"\"\"\u001b[39;00m\n\u001b[1;32m-> 5258\u001b[0m     \u001b[38;5;28;01mreturn\u001b[39;00m \u001b[38;5;28msuper\u001b[39m()\u001b[38;5;241m.\u001b[39mdrop(\n\u001b[0;32m   5259\u001b[0m         labels\u001b[38;5;241m=\u001b[39mlabels,\n\u001b[0;32m   5260\u001b[0m         axis\u001b[38;5;241m=\u001b[39maxis,\n\u001b[0;32m   5261\u001b[0m         index\u001b[38;5;241m=\u001b[39mindex,\n\u001b[0;32m   5262\u001b[0m         columns\u001b[38;5;241m=\u001b[39mcolumns,\n\u001b[0;32m   5263\u001b[0m         level\u001b[38;5;241m=\u001b[39mlevel,\n\u001b[0;32m   5264\u001b[0m         inplace\u001b[38;5;241m=\u001b[39minplace,\n\u001b[0;32m   5265\u001b[0m         errors\u001b[38;5;241m=\u001b[39merrors,\n\u001b[0;32m   5266\u001b[0m     )\n",
      "File \u001b[1;32m~\\AppData\\Local\\anaconda3\\Lib\\site-packages\\pandas\\core\\generic.py:4549\u001b[0m, in \u001b[0;36mNDFrame.drop\u001b[1;34m(self, labels, axis, index, columns, level, inplace, errors)\u001b[0m\n\u001b[0;32m   4547\u001b[0m \u001b[38;5;28;01mfor\u001b[39;00m axis, labels \u001b[38;5;129;01min\u001b[39;00m axes\u001b[38;5;241m.\u001b[39mitems():\n\u001b[0;32m   4548\u001b[0m     \u001b[38;5;28;01mif\u001b[39;00m labels \u001b[38;5;129;01mis\u001b[39;00m \u001b[38;5;129;01mnot\u001b[39;00m \u001b[38;5;28;01mNone\u001b[39;00m:\n\u001b[1;32m-> 4549\u001b[0m         obj \u001b[38;5;241m=\u001b[39m obj\u001b[38;5;241m.\u001b[39m_drop_axis(labels, axis, level\u001b[38;5;241m=\u001b[39mlevel, errors\u001b[38;5;241m=\u001b[39merrors)\n\u001b[0;32m   4551\u001b[0m \u001b[38;5;28;01mif\u001b[39;00m inplace:\n\u001b[0;32m   4552\u001b[0m     \u001b[38;5;28mself\u001b[39m\u001b[38;5;241m.\u001b[39m_update_inplace(obj)\n",
      "File \u001b[1;32m~\\AppData\\Local\\anaconda3\\Lib\\site-packages\\pandas\\core\\generic.py:4591\u001b[0m, in \u001b[0;36mNDFrame._drop_axis\u001b[1;34m(self, labels, axis, level, errors, only_slice)\u001b[0m\n\u001b[0;32m   4589\u001b[0m         new_axis \u001b[38;5;241m=\u001b[39m axis\u001b[38;5;241m.\u001b[39mdrop(labels, level\u001b[38;5;241m=\u001b[39mlevel, errors\u001b[38;5;241m=\u001b[39merrors)\n\u001b[0;32m   4590\u001b[0m     \u001b[38;5;28;01melse\u001b[39;00m:\n\u001b[1;32m-> 4591\u001b[0m         new_axis \u001b[38;5;241m=\u001b[39m axis\u001b[38;5;241m.\u001b[39mdrop(labels, errors\u001b[38;5;241m=\u001b[39merrors)\n\u001b[0;32m   4592\u001b[0m     indexer \u001b[38;5;241m=\u001b[39m axis\u001b[38;5;241m.\u001b[39mget_indexer(new_axis)\n\u001b[0;32m   4594\u001b[0m \u001b[38;5;66;03m# Case for non-unique axis\u001b[39;00m\n\u001b[0;32m   4595\u001b[0m \u001b[38;5;28;01melse\u001b[39;00m:\n",
      "File \u001b[1;32m~\\AppData\\Local\\anaconda3\\Lib\\site-packages\\pandas\\core\\indexes\\base.py:6699\u001b[0m, in \u001b[0;36mIndex.drop\u001b[1;34m(self, labels, errors)\u001b[0m\n\u001b[0;32m   6697\u001b[0m \u001b[38;5;28;01mif\u001b[39;00m mask\u001b[38;5;241m.\u001b[39many():\n\u001b[0;32m   6698\u001b[0m     \u001b[38;5;28;01mif\u001b[39;00m errors \u001b[38;5;241m!=\u001b[39m \u001b[38;5;124m\"\u001b[39m\u001b[38;5;124mignore\u001b[39m\u001b[38;5;124m\"\u001b[39m:\n\u001b[1;32m-> 6699\u001b[0m         \u001b[38;5;28;01mraise\u001b[39;00m \u001b[38;5;167;01mKeyError\u001b[39;00m(\u001b[38;5;124mf\u001b[39m\u001b[38;5;124m\"\u001b[39m\u001b[38;5;132;01m{\u001b[39;00m\u001b[38;5;28mlist\u001b[39m(labels[mask])\u001b[38;5;132;01m}\u001b[39;00m\u001b[38;5;124m not found in axis\u001b[39m\u001b[38;5;124m\"\u001b[39m)\n\u001b[0;32m   6700\u001b[0m     indexer \u001b[38;5;241m=\u001b[39m indexer[\u001b[38;5;241m~\u001b[39mmask]\n\u001b[0;32m   6701\u001b[0m \u001b[38;5;28;01mreturn\u001b[39;00m \u001b[38;5;28mself\u001b[39m\u001b[38;5;241m.\u001b[39mdelete(indexer)\n",
      "\u001b[1;31mKeyError\u001b[0m: '[3] not found in axis'"
     ]
    }
   ],
   "source": [
    "df = cleanit(first_sheet_data)"
   ]
  },
  {
   "cell_type": "code",
   "execution_count": 10,
   "id": "73ff6808",
   "metadata": {},
   "outputs": [],
   "source": [
    "#cleanit(first_sheet_data)"
   ]
  },
  {
   "cell_type": "code",
   "execution_count": 11,
   "id": "cebe3284",
   "metadata": {},
   "outputs": [],
   "source": [
    "#df.index"
   ]
  },
  {
   "cell_type": "code",
   "execution_count": 12,
   "id": "840bd59f",
   "metadata": {},
   "outputs": [
    {
     "ename": "NameError",
     "evalue": "name 'df' is not defined",
     "output_type": "error",
     "traceback": [
      "\u001b[1;31m---------------------------------------------------------------------------\u001b[0m",
      "\u001b[1;31mNameError\u001b[0m                                 Traceback (most recent call last)",
      "Cell \u001b[1;32mIn[12], line 1\u001b[0m\n\u001b[1;32m----> 1\u001b[0m mid_df \u001b[38;5;241m=\u001b[39m addvalues(df)\n",
      "\u001b[1;31mNameError\u001b[0m: name 'df' is not defined"
     ]
    }
   ],
   "source": [
    "mid_df = addvalues(df)"
   ]
  },
  {
   "cell_type": "code",
   "execution_count": 13,
   "id": "6fc39cd3",
   "metadata": {},
   "outputs": [],
   "source": [
    "#excel_saveit(mid_df)"
   ]
  },
  {
   "cell_type": "code",
   "execution_count": 14,
   "id": "d111627f",
   "metadata": {},
   "outputs": [
    {
     "ename": "KeyError",
     "evalue": "'[3] not found in axis'",
     "output_type": "error",
     "traceback": [
      "\u001b[1;31m---------------------------------------------------------------------------\u001b[0m",
      "\u001b[1;31mKeyError\u001b[0m                                  Traceback (most recent call last)",
      "Cell \u001b[1;32mIn[14], line 1\u001b[0m\n\u001b[1;32m----> 1\u001b[0m df2 \u001b[38;5;241m=\u001b[39m cleanit(second_sheet_data)\n",
      "Cell \u001b[1;32mIn[4], line 38\u001b[0m, in \u001b[0;36mcleanit\u001b[1;34m(iox)\u001b[0m\n\u001b[0;32m     32\u001b[0m \u001b[38;5;66;03m# Delete rows 0-5\u001b[39;00m\n\u001b[0;32m     33\u001b[0m \u001b[38;5;66;03m#print(df)\u001b[39;00m\n\u001b[0;32m     34\u001b[0m \u001b[38;5;66;03m#pd.set_option('display.max_columns', None)  # None: Display all columns\u001b[39;00m\n\u001b[0;32m     35\u001b[0m \u001b[38;5;66;03m#pd.set_option('display.max_rows', None)  # None: Display all rows\u001b[39;00m\n\u001b[0;32m     36\u001b[0m \u001b[38;5;66;03m#return df\u001b[39;00m\n\u001b[0;32m     37\u001b[0m \u001b[38;5;28;01mif\u001b[39;00m \u001b[38;5;241m4\u001b[39m \u001b[38;5;129;01min\u001b[39;00m df\u001b[38;5;241m.\u001b[39mindex:\n\u001b[1;32m---> 38\u001b[0m     df \u001b[38;5;241m=\u001b[39m df\u001b[38;5;241m.\u001b[39mdrop(labels \u001b[38;5;241m=\u001b[39m \u001b[38;5;28mrange\u001b[39m(\u001b[38;5;241m0\u001b[39m,\u001b[38;5;241m5\u001b[39m), axis \u001b[38;5;241m=\u001b[39m \u001b[38;5;241m0\u001b[39m)\n\u001b[0;32m     39\u001b[0m \u001b[38;5;28;01melse\u001b[39;00m:\n\u001b[0;32m     40\u001b[0m     df \u001b[38;5;241m=\u001b[39m df\u001b[38;5;241m.\u001b[39mdrop(labels \u001b[38;5;241m=\u001b[39m \u001b[38;5;28mrange\u001b[39m(\u001b[38;5;241m0\u001b[39m,\u001b[38;5;241m4\u001b[39m), axis \u001b[38;5;241m=\u001b[39m \u001b[38;5;241m0\u001b[39m)\n",
      "File \u001b[1;32m~\\AppData\\Local\\anaconda3\\Lib\\site-packages\\pandas\\core\\frame.py:5258\u001b[0m, in \u001b[0;36mDataFrame.drop\u001b[1;34m(self, labels, axis, index, columns, level, inplace, errors)\u001b[0m\n\u001b[0;32m   5110\u001b[0m \u001b[38;5;28;01mdef\u001b[39;00m \u001b[38;5;21mdrop\u001b[39m(\n\u001b[0;32m   5111\u001b[0m     \u001b[38;5;28mself\u001b[39m,\n\u001b[0;32m   5112\u001b[0m     labels: IndexLabel \u001b[38;5;241m=\u001b[39m \u001b[38;5;28;01mNone\u001b[39;00m,\n\u001b[1;32m   (...)\u001b[0m\n\u001b[0;32m   5119\u001b[0m     errors: IgnoreRaise \u001b[38;5;241m=\u001b[39m \u001b[38;5;124m\"\u001b[39m\u001b[38;5;124mraise\u001b[39m\u001b[38;5;124m\"\u001b[39m,\n\u001b[0;32m   5120\u001b[0m ) \u001b[38;5;241m-\u001b[39m\u001b[38;5;241m>\u001b[39m DataFrame \u001b[38;5;241m|\u001b[39m \u001b[38;5;28;01mNone\u001b[39;00m:\n\u001b[0;32m   5121\u001b[0m \u001b[38;5;250m    \u001b[39m\u001b[38;5;124;03m\"\"\"\u001b[39;00m\n\u001b[0;32m   5122\u001b[0m \u001b[38;5;124;03m    Drop specified labels from rows or columns.\u001b[39;00m\n\u001b[0;32m   5123\u001b[0m \n\u001b[1;32m   (...)\u001b[0m\n\u001b[0;32m   5256\u001b[0m \u001b[38;5;124;03m            weight  1.0     0.8\u001b[39;00m\n\u001b[0;32m   5257\u001b[0m \u001b[38;5;124;03m    \"\"\"\u001b[39;00m\n\u001b[1;32m-> 5258\u001b[0m     \u001b[38;5;28;01mreturn\u001b[39;00m \u001b[38;5;28msuper\u001b[39m()\u001b[38;5;241m.\u001b[39mdrop(\n\u001b[0;32m   5259\u001b[0m         labels\u001b[38;5;241m=\u001b[39mlabels,\n\u001b[0;32m   5260\u001b[0m         axis\u001b[38;5;241m=\u001b[39maxis,\n\u001b[0;32m   5261\u001b[0m         index\u001b[38;5;241m=\u001b[39mindex,\n\u001b[0;32m   5262\u001b[0m         columns\u001b[38;5;241m=\u001b[39mcolumns,\n\u001b[0;32m   5263\u001b[0m         level\u001b[38;5;241m=\u001b[39mlevel,\n\u001b[0;32m   5264\u001b[0m         inplace\u001b[38;5;241m=\u001b[39minplace,\n\u001b[0;32m   5265\u001b[0m         errors\u001b[38;5;241m=\u001b[39merrors,\n\u001b[0;32m   5266\u001b[0m     )\n",
      "File \u001b[1;32m~\\AppData\\Local\\anaconda3\\Lib\\site-packages\\pandas\\core\\generic.py:4549\u001b[0m, in \u001b[0;36mNDFrame.drop\u001b[1;34m(self, labels, axis, index, columns, level, inplace, errors)\u001b[0m\n\u001b[0;32m   4547\u001b[0m \u001b[38;5;28;01mfor\u001b[39;00m axis, labels \u001b[38;5;129;01min\u001b[39;00m axes\u001b[38;5;241m.\u001b[39mitems():\n\u001b[0;32m   4548\u001b[0m     \u001b[38;5;28;01mif\u001b[39;00m labels \u001b[38;5;129;01mis\u001b[39;00m \u001b[38;5;129;01mnot\u001b[39;00m \u001b[38;5;28;01mNone\u001b[39;00m:\n\u001b[1;32m-> 4549\u001b[0m         obj \u001b[38;5;241m=\u001b[39m obj\u001b[38;5;241m.\u001b[39m_drop_axis(labels, axis, level\u001b[38;5;241m=\u001b[39mlevel, errors\u001b[38;5;241m=\u001b[39merrors)\n\u001b[0;32m   4551\u001b[0m \u001b[38;5;28;01mif\u001b[39;00m inplace:\n\u001b[0;32m   4552\u001b[0m     \u001b[38;5;28mself\u001b[39m\u001b[38;5;241m.\u001b[39m_update_inplace(obj)\n",
      "File \u001b[1;32m~\\AppData\\Local\\anaconda3\\Lib\\site-packages\\pandas\\core\\generic.py:4591\u001b[0m, in \u001b[0;36mNDFrame._drop_axis\u001b[1;34m(self, labels, axis, level, errors, only_slice)\u001b[0m\n\u001b[0;32m   4589\u001b[0m         new_axis \u001b[38;5;241m=\u001b[39m axis\u001b[38;5;241m.\u001b[39mdrop(labels, level\u001b[38;5;241m=\u001b[39mlevel, errors\u001b[38;5;241m=\u001b[39merrors)\n\u001b[0;32m   4590\u001b[0m     \u001b[38;5;28;01melse\u001b[39;00m:\n\u001b[1;32m-> 4591\u001b[0m         new_axis \u001b[38;5;241m=\u001b[39m axis\u001b[38;5;241m.\u001b[39mdrop(labels, errors\u001b[38;5;241m=\u001b[39merrors)\n\u001b[0;32m   4592\u001b[0m     indexer \u001b[38;5;241m=\u001b[39m axis\u001b[38;5;241m.\u001b[39mget_indexer(new_axis)\n\u001b[0;32m   4594\u001b[0m \u001b[38;5;66;03m# Case for non-unique axis\u001b[39;00m\n\u001b[0;32m   4595\u001b[0m \u001b[38;5;28;01melse\u001b[39;00m:\n",
      "File \u001b[1;32m~\\AppData\\Local\\anaconda3\\Lib\\site-packages\\pandas\\core\\indexes\\base.py:6699\u001b[0m, in \u001b[0;36mIndex.drop\u001b[1;34m(self, labels, errors)\u001b[0m\n\u001b[0;32m   6697\u001b[0m \u001b[38;5;28;01mif\u001b[39;00m mask\u001b[38;5;241m.\u001b[39many():\n\u001b[0;32m   6698\u001b[0m     \u001b[38;5;28;01mif\u001b[39;00m errors \u001b[38;5;241m!=\u001b[39m \u001b[38;5;124m\"\u001b[39m\u001b[38;5;124mignore\u001b[39m\u001b[38;5;124m\"\u001b[39m:\n\u001b[1;32m-> 6699\u001b[0m         \u001b[38;5;28;01mraise\u001b[39;00m \u001b[38;5;167;01mKeyError\u001b[39;00m(\u001b[38;5;124mf\u001b[39m\u001b[38;5;124m\"\u001b[39m\u001b[38;5;132;01m{\u001b[39;00m\u001b[38;5;28mlist\u001b[39m(labels[mask])\u001b[38;5;132;01m}\u001b[39;00m\u001b[38;5;124m not found in axis\u001b[39m\u001b[38;5;124m\"\u001b[39m)\n\u001b[0;32m   6700\u001b[0m     indexer \u001b[38;5;241m=\u001b[39m indexer[\u001b[38;5;241m~\u001b[39mmask]\n\u001b[0;32m   6701\u001b[0m \u001b[38;5;28;01mreturn\u001b[39;00m \u001b[38;5;28mself\u001b[39m\u001b[38;5;241m.\u001b[39mdelete(indexer)\n",
      "\u001b[1;31mKeyError\u001b[0m: '[3] not found in axis'"
     ]
    }
   ],
   "source": [
    "df2 = cleanit(second_sheet_data)"
   ]
  },
  {
   "cell_type": "code",
   "execution_count": null,
   "id": "a31f0a10",
   "metadata": {},
   "outputs": [],
   "source": [
    "mid_df2 = addvalues(df2)"
   ]
  },
  {
   "cell_type": "code",
   "execution_count": null,
   "id": "83717e26",
   "metadata": {},
   "outputs": [],
   "source": [
    "#excel_saveit(mid_df2)"
   ]
  },
  {
   "cell_type": "code",
   "execution_count": null,
   "id": "31fabac4",
   "metadata": {},
   "outputs": [],
   "source": [
    "excel_saveit(mid_df, mid_df2)"
   ]
  },
  {
   "cell_type": "code",
   "execution_count": null,
   "id": "c8b41e4b",
   "metadata": {},
   "outputs": [],
   "source": []
  },
  {
   "cell_type": "code",
   "execution_count": null,
   "id": "dd5d5978",
   "metadata": {},
   "outputs": [],
   "source": []
  },
  {
   "cell_type": "code",
   "execution_count": null,
   "id": "6f0b801b",
   "metadata": {},
   "outputs": [],
   "source": []
  }
 ],
 "metadata": {
  "kernelspec": {
   "display_name": "Python 3 (ipykernel)",
   "language": "python",
   "name": "python3"
  },
  "language_info": {
   "codemirror_mode": {
    "name": "ipython",
    "version": 3
   },
   "file_extension": ".py",
   "mimetype": "text/x-python",
   "name": "python",
   "nbconvert_exporter": "python",
   "pygments_lexer": "ipython3",
   "version": "3.11.5"
  }
 },
 "nbformat": 4,
 "nbformat_minor": 5
}
